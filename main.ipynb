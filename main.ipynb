{
  "nbformat": 4,
  "nbformat_minor": 0,
  "metadata": {
    "colab": {
      "provenance": [],
      "collapsed_sections": [],
      "mount_file_id": "1B7OmRuO3oFI9lcy3kITw4wCgw3T-HHWE",
      "authorship_tag": "ABX9TyPJ34tribwVwL4b3U7fuDBM",
      "include_colab_link": true
    },
    "kernelspec": {
      "name": "python3",
      "display_name": "Python 3"
    },
    "language_info": {
      "name": "python"
    },
    "accelerator": "GPU"
  },
  "cells": [
    {
      "cell_type": "markdown",
      "metadata": {
        "id": "view-in-github",
        "colab_type": "text"
      },
      "source": [
        "<a href=\"https://colab.research.google.com/github/pmukeshreddy/stock-predication-using-rnn/blob/main/main.ipynb\" target=\"_parent\"><img src=\"https://colab.research.google.com/assets/colab-badge.svg\" alt=\"Open In Colab\"/></a>"
      ]
    },
    {
      "cell_type": "code",
      "execution_count": 1,
      "metadata": {
        "id": "CdSQnjehg7OK"
      },
      "outputs": [],
      "source": [
        "import pandas as pd"
      ]
    },
    {
      "cell_type": "code",
      "source": [
        "dataset_trainv = pd.read_csv(\"/content/drive/MyDrive/Colab Notebooks/deeplearining projects/rnn/trainset.csv\")"
      ],
      "metadata": {
        "id": "eX1dvVlKhYsS"
      },
      "execution_count": 2,
      "outputs": []
    },
    {
      "cell_type": "code",
      "source": [
        "dataset_trainv"
      ],
      "metadata": {
        "colab": {
          "base_uri": "https://localhost:8080/",
          "height": 424
        },
        "id": "TWfIXs4ShjCu",
        "outputId": "edcbfb7c-2560-49c3-9110-8271abaf5674"
      },
      "execution_count": 3,
      "outputs": [
        {
          "output_type": "execute_result",
          "data": {
            "text/plain": [
              "            Date         Open         High          Low        Close  \\\n",
              "0     2013-01-02   357.385559   361.151062   355.959839   359.288177   \n",
              "1     2013-01-03   360.122742   363.600128   358.031342   359.496826   \n",
              "2     2013-01-04   362.313507   368.339294   361.488861   366.600616   \n",
              "3     2013-01-07   365.348755   367.301056   362.929504   365.001007   \n",
              "4     2013-01-08   365.393463   365.771027   359.874359   364.280701   \n",
              "...          ...          ...          ...          ...          ...   \n",
              "1254  2017-12-22  1061.109985  1064.199951  1059.439941  1060.119995   \n",
              "1255  2017-12-26  1058.069946  1060.119995  1050.199951  1056.739990   \n",
              "1256  2017-12-27  1057.390015  1058.369995  1048.050049  1049.369995   \n",
              "1257  2017-12-28  1051.599976  1054.750000  1044.770020  1048.140015   \n",
              "1258  2017-12-29  1046.719971  1049.699951  1044.900024  1046.400024   \n",
              "\n",
              "        Adj Close   Volume  \n",
              "0      359.288177  5115500  \n",
              "1      359.496826  4666500  \n",
              "2      366.600616  5562800  \n",
              "3      365.001007  3332900  \n",
              "4      364.280701  3373900  \n",
              "...           ...      ...  \n",
              "1254  1060.119995   755100  \n",
              "1255  1056.739990   760600  \n",
              "1256  1049.369995  1271900  \n",
              "1257  1048.140015   837100  \n",
              "1258  1046.400024   887500  \n",
              "\n",
              "[1259 rows x 7 columns]"
            ],
            "text/html": [
              "\n",
              "  <div id=\"df-11b6ac4f-f384-41f0-8904-abc42b2d1e52\">\n",
              "    <div class=\"colab-df-container\">\n",
              "      <div>\n",
              "<style scoped>\n",
              "    .dataframe tbody tr th:only-of-type {\n",
              "        vertical-align: middle;\n",
              "    }\n",
              "\n",
              "    .dataframe tbody tr th {\n",
              "        vertical-align: top;\n",
              "    }\n",
              "\n",
              "    .dataframe thead th {\n",
              "        text-align: right;\n",
              "    }\n",
              "</style>\n",
              "<table border=\"1\" class=\"dataframe\">\n",
              "  <thead>\n",
              "    <tr style=\"text-align: right;\">\n",
              "      <th></th>\n",
              "      <th>Date</th>\n",
              "      <th>Open</th>\n",
              "      <th>High</th>\n",
              "      <th>Low</th>\n",
              "      <th>Close</th>\n",
              "      <th>Adj Close</th>\n",
              "      <th>Volume</th>\n",
              "    </tr>\n",
              "  </thead>\n",
              "  <tbody>\n",
              "    <tr>\n",
              "      <th>0</th>\n",
              "      <td>2013-01-02</td>\n",
              "      <td>357.385559</td>\n",
              "      <td>361.151062</td>\n",
              "      <td>355.959839</td>\n",
              "      <td>359.288177</td>\n",
              "      <td>359.288177</td>\n",
              "      <td>5115500</td>\n",
              "    </tr>\n",
              "    <tr>\n",
              "      <th>1</th>\n",
              "      <td>2013-01-03</td>\n",
              "      <td>360.122742</td>\n",
              "      <td>363.600128</td>\n",
              "      <td>358.031342</td>\n",
              "      <td>359.496826</td>\n",
              "      <td>359.496826</td>\n",
              "      <td>4666500</td>\n",
              "    </tr>\n",
              "    <tr>\n",
              "      <th>2</th>\n",
              "      <td>2013-01-04</td>\n",
              "      <td>362.313507</td>\n",
              "      <td>368.339294</td>\n",
              "      <td>361.488861</td>\n",
              "      <td>366.600616</td>\n",
              "      <td>366.600616</td>\n",
              "      <td>5562800</td>\n",
              "    </tr>\n",
              "    <tr>\n",
              "      <th>3</th>\n",
              "      <td>2013-01-07</td>\n",
              "      <td>365.348755</td>\n",
              "      <td>367.301056</td>\n",
              "      <td>362.929504</td>\n",
              "      <td>365.001007</td>\n",
              "      <td>365.001007</td>\n",
              "      <td>3332900</td>\n",
              "    </tr>\n",
              "    <tr>\n",
              "      <th>4</th>\n",
              "      <td>2013-01-08</td>\n",
              "      <td>365.393463</td>\n",
              "      <td>365.771027</td>\n",
              "      <td>359.874359</td>\n",
              "      <td>364.280701</td>\n",
              "      <td>364.280701</td>\n",
              "      <td>3373900</td>\n",
              "    </tr>\n",
              "    <tr>\n",
              "      <th>...</th>\n",
              "      <td>...</td>\n",
              "      <td>...</td>\n",
              "      <td>...</td>\n",
              "      <td>...</td>\n",
              "      <td>...</td>\n",
              "      <td>...</td>\n",
              "      <td>...</td>\n",
              "    </tr>\n",
              "    <tr>\n",
              "      <th>1254</th>\n",
              "      <td>2017-12-22</td>\n",
              "      <td>1061.109985</td>\n",
              "      <td>1064.199951</td>\n",
              "      <td>1059.439941</td>\n",
              "      <td>1060.119995</td>\n",
              "      <td>1060.119995</td>\n",
              "      <td>755100</td>\n",
              "    </tr>\n",
              "    <tr>\n",
              "      <th>1255</th>\n",
              "      <td>2017-12-26</td>\n",
              "      <td>1058.069946</td>\n",
              "      <td>1060.119995</td>\n",
              "      <td>1050.199951</td>\n",
              "      <td>1056.739990</td>\n",
              "      <td>1056.739990</td>\n",
              "      <td>760600</td>\n",
              "    </tr>\n",
              "    <tr>\n",
              "      <th>1256</th>\n",
              "      <td>2017-12-27</td>\n",
              "      <td>1057.390015</td>\n",
              "      <td>1058.369995</td>\n",
              "      <td>1048.050049</td>\n",
              "      <td>1049.369995</td>\n",
              "      <td>1049.369995</td>\n",
              "      <td>1271900</td>\n",
              "    </tr>\n",
              "    <tr>\n",
              "      <th>1257</th>\n",
              "      <td>2017-12-28</td>\n",
              "      <td>1051.599976</td>\n",
              "      <td>1054.750000</td>\n",
              "      <td>1044.770020</td>\n",
              "      <td>1048.140015</td>\n",
              "      <td>1048.140015</td>\n",
              "      <td>837100</td>\n",
              "    </tr>\n",
              "    <tr>\n",
              "      <th>1258</th>\n",
              "      <td>2017-12-29</td>\n",
              "      <td>1046.719971</td>\n",
              "      <td>1049.699951</td>\n",
              "      <td>1044.900024</td>\n",
              "      <td>1046.400024</td>\n",
              "      <td>1046.400024</td>\n",
              "      <td>887500</td>\n",
              "    </tr>\n",
              "  </tbody>\n",
              "</table>\n",
              "<p>1259 rows × 7 columns</p>\n",
              "</div>\n",
              "      <button class=\"colab-df-convert\" onclick=\"convertToInteractive('df-11b6ac4f-f384-41f0-8904-abc42b2d1e52')\"\n",
              "              title=\"Convert this dataframe to an interactive table.\"\n",
              "              style=\"display:none;\">\n",
              "        \n",
              "  <svg xmlns=\"http://www.w3.org/2000/svg\" height=\"24px\"viewBox=\"0 0 24 24\"\n",
              "       width=\"24px\">\n",
              "    <path d=\"M0 0h24v24H0V0z\" fill=\"none\"/>\n",
              "    <path d=\"M18.56 5.44l.94 2.06.94-2.06 2.06-.94-2.06-.94-.94-2.06-.94 2.06-2.06.94zm-11 1L8.5 8.5l.94-2.06 2.06-.94-2.06-.94L8.5 2.5l-.94 2.06-2.06.94zm10 10l.94 2.06.94-2.06 2.06-.94-2.06-.94-.94-2.06-.94 2.06-2.06.94z\"/><path d=\"M17.41 7.96l-1.37-1.37c-.4-.4-.92-.59-1.43-.59-.52 0-1.04.2-1.43.59L10.3 9.45l-7.72 7.72c-.78.78-.78 2.05 0 2.83L4 21.41c.39.39.9.59 1.41.59.51 0 1.02-.2 1.41-.59l7.78-7.78 2.81-2.81c.8-.78.8-2.07 0-2.86zM5.41 20L4 18.59l7.72-7.72 1.47 1.35L5.41 20z\"/>\n",
              "  </svg>\n",
              "      </button>\n",
              "      \n",
              "  <style>\n",
              "    .colab-df-container {\n",
              "      display:flex;\n",
              "      flex-wrap:wrap;\n",
              "      gap: 12px;\n",
              "    }\n",
              "\n",
              "    .colab-df-convert {\n",
              "      background-color: #E8F0FE;\n",
              "      border: none;\n",
              "      border-radius: 50%;\n",
              "      cursor: pointer;\n",
              "      display: none;\n",
              "      fill: #1967D2;\n",
              "      height: 32px;\n",
              "      padding: 0 0 0 0;\n",
              "      width: 32px;\n",
              "    }\n",
              "\n",
              "    .colab-df-convert:hover {\n",
              "      background-color: #E2EBFA;\n",
              "      box-shadow: 0px 1px 2px rgba(60, 64, 67, 0.3), 0px 1px 3px 1px rgba(60, 64, 67, 0.15);\n",
              "      fill: #174EA6;\n",
              "    }\n",
              "\n",
              "    [theme=dark] .colab-df-convert {\n",
              "      background-color: #3B4455;\n",
              "      fill: #D2E3FC;\n",
              "    }\n",
              "\n",
              "    [theme=dark] .colab-df-convert:hover {\n",
              "      background-color: #434B5C;\n",
              "      box-shadow: 0px 1px 3px 1px rgba(0, 0, 0, 0.15);\n",
              "      filter: drop-shadow(0px 1px 2px rgba(0, 0, 0, 0.3));\n",
              "      fill: #FFFFFF;\n",
              "    }\n",
              "  </style>\n",
              "\n",
              "      <script>\n",
              "        const buttonEl =\n",
              "          document.querySelector('#df-11b6ac4f-f384-41f0-8904-abc42b2d1e52 button.colab-df-convert');\n",
              "        buttonEl.style.display =\n",
              "          google.colab.kernel.accessAllowed ? 'block' : 'none';\n",
              "\n",
              "        async function convertToInteractive(key) {\n",
              "          const element = document.querySelector('#df-11b6ac4f-f384-41f0-8904-abc42b2d1e52');\n",
              "          const dataTable =\n",
              "            await google.colab.kernel.invokeFunction('convertToInteractive',\n",
              "                                                     [key], {});\n",
              "          if (!dataTable) return;\n",
              "\n",
              "          const docLinkHtml = 'Like what you see? Visit the ' +\n",
              "            '<a target=\"_blank\" href=https://colab.research.google.com/notebooks/data_table.ipynb>data table notebook</a>'\n",
              "            + ' to learn more about interactive tables.';\n",
              "          element.innerHTML = '';\n",
              "          dataTable['output_type'] = 'display_data';\n",
              "          await google.colab.output.renderOutput(dataTable, element);\n",
              "          const docLink = document.createElement('div');\n",
              "          docLink.innerHTML = docLinkHtml;\n",
              "          element.appendChild(docLink);\n",
              "        }\n",
              "      </script>\n",
              "    </div>\n",
              "  </div>\n",
              "  "
            ]
          },
          "metadata": {},
          "execution_count": 3
        }
      ]
    },
    {
      "cell_type": "code",
      "source": [
        "trainset = dataset_trainv.iloc[:,1:2].values"
      ],
      "metadata": {
        "id": "t2DCGQa6h2XY"
      },
      "execution_count": 4,
      "outputs": []
    },
    {
      "cell_type": "code",
      "source": [
        "trainset"
      ],
      "metadata": {
        "colab": {
          "base_uri": "https://localhost:8080/"
        },
        "id": "hGkyV3w2iJdl",
        "outputId": "5db22c3c-5bee-4c1b-9653-227ac0c00590"
      },
      "execution_count": 5,
      "outputs": [
        {
          "output_type": "execute_result",
          "data": {
            "text/plain": [
              "array([[ 357.385559],\n",
              "       [ 360.122742],\n",
              "       [ 362.313507],\n",
              "       ...,\n",
              "       [1057.390015],\n",
              "       [1051.599976],\n",
              "       [1046.719971]])"
            ]
          },
          "metadata": {},
          "execution_count": 5
        }
      ]
    },
    {
      "cell_type": "code",
      "source": [
        "from sklearn.preprocessing  import MinMaxScaler\n",
        "sc = MinMaxScaler(feature_range=(0,1))\n",
        "trained_scaled = sc.fit_transform(trainset)"
      ],
      "metadata": {
        "id": "yGdIShSfiVM4"
      },
      "execution_count": 6,
      "outputs": []
    },
    {
      "cell_type": "code",
      "source": [
        "trained_scaled"
      ],
      "metadata": {
        "colab": {
          "base_uri": "https://localhost:8080/"
        },
        "id": "jsk_Q2-hjOxa",
        "outputId": "dcc0bd01-5973-4b81-a591-009b6df68d13"
      },
      "execution_count": 7,
      "outputs": [
        {
          "output_type": "execute_result",
          "data": {
            "text/plain": [
              "array([[0.01011148],\n",
              "       [0.01388614],\n",
              "       [0.01690727],\n",
              "       ...,\n",
              "       [0.97543954],\n",
              "       [0.9674549 ],\n",
              "       [0.96072522]])"
            ]
          },
          "metadata": {},
          "execution_count": 7
        }
      ]
    },
    {
      "cell_type": "code",
      "source": [
        "x_train = []\n",
        "y_train = []"
      ],
      "metadata": {
        "id": "7EOcDLRZkJwa"
      },
      "execution_count": 8,
      "outputs": []
    },
    {
      "cell_type": "code",
      "source": [
        "import numpy as np"
      ],
      "metadata": {
        "id": "RTFYfvtmkyhr"
      },
      "execution_count": 9,
      "outputs": []
    },
    {
      "cell_type": "code",
      "source": [
        "for i in range(60,1259):\n",
        "  x_train.append(trained_scaled[i-60:i,0])\n",
        "  y_train.append(trained_scaled[i,0])\n",
        "\n",
        "x_train,y_train = np.array(x_train),np.array(y_train)"
      ],
      "metadata": {
        "id": "79lh-3HMi-1_"
      },
      "execution_count": 10,
      "outputs": []
    },
    {
      "cell_type": "code",
      "source": [
        "x_train = np.reshape(x_train,(x_train.shape[0],x_train.shape[1],1))"
      ],
      "metadata": {
        "id": "mkrBQoBkkpIb"
      },
      "execution_count": 11,
      "outputs": []
    },
    {
      "cell_type": "code",
      "source": [
        "from keras.models import Sequential\n",
        "from keras.layers import LSTM,Dense,Dropout"
      ],
      "metadata": {
        "id": "JRZFNecGlKDn"
      },
      "execution_count": 12,
      "outputs": []
    },
    {
      "cell_type": "code",
      "source": [
        "model = Sequential()\n",
        "model.add(LSTM(units=50,return_sequences=True,input_shape=(x_train.shape[1],1)))\n",
        "model.add(Dropout(0.2))\n",
        "model.add(LSTM(units=50,return_sequences=True))\n",
        "model.add(Dropout(0.2))\n",
        "model.add(LSTM(units=50,return_sequences=True))\n",
        "model.add(Dropout(0.2))\n",
        "model.add(LSTM(units=50,return_sequences=True))\n",
        "model.add(Dropout(0.2))\n",
        "model.add(LSTM(units=50))\n",
        "model.add(Dropout(0.2))\n",
        "model.add(Dense(units=1))"
      ],
      "metadata": {
        "id": "XVFeMEVPlggQ"
      },
      "execution_count": 13,
      "outputs": []
    },
    {
      "cell_type": "code",
      "source": [
        "model.compile(optimizer=\"adam\",loss=\"mean_squared_error\")"
      ],
      "metadata": {
        "id": "ZbnZx2LAmxpN"
      },
      "execution_count": 16,
      "outputs": []
    },
    {
      "cell_type": "code",
      "source": [
        "model.fit(x_train,y_train,epochs=100,batch_size=32)"
      ],
      "metadata": {
        "colab": {
          "base_uri": "https://localhost:8080/"
        },
        "id": "0C9xVGG5nCA2",
        "outputId": "dfd38a73-ba35-4852-d13c-5882a1cd1750"
      },
      "execution_count": 17,
      "outputs": [
        {
          "output_type": "stream",
          "name": "stdout",
          "text": [
            "Epoch 1/100\n",
            "38/38 [==============================] - 7s 20ms/step - loss: 0.0020\n",
            "Epoch 2/100\n",
            "38/38 [==============================] - 1s 18ms/step - loss: 0.0019\n",
            "Epoch 3/100\n",
            "38/38 [==============================] - 1s 18ms/step - loss: 0.0018\n",
            "Epoch 4/100\n",
            "38/38 [==============================] - 1s 17ms/step - loss: 0.0018\n",
            "Epoch 5/100\n",
            "38/38 [==============================] - 1s 18ms/step - loss: 0.0023\n",
            "Epoch 6/100\n",
            "38/38 [==============================] - 1s 19ms/step - loss: 0.0019\n",
            "Epoch 7/100\n",
            "38/38 [==============================] - 1s 18ms/step - loss: 0.0020\n",
            "Epoch 8/100\n",
            "38/38 [==============================] - 1s 18ms/step - loss: 0.0017\n",
            "Epoch 9/100\n",
            "38/38 [==============================] - 1s 18ms/step - loss: 0.0016\n",
            "Epoch 10/100\n",
            "38/38 [==============================] - 1s 17ms/step - loss: 0.0016\n",
            "Epoch 11/100\n",
            "38/38 [==============================] - 1s 18ms/step - loss: 0.0016\n",
            "Epoch 12/100\n",
            "38/38 [==============================] - 1s 18ms/step - loss: 0.0017\n",
            "Epoch 13/100\n",
            "38/38 [==============================] - 1s 17ms/step - loss: 0.0018\n",
            "Epoch 14/100\n",
            "38/38 [==============================] - 1s 18ms/step - loss: 0.0017\n",
            "Epoch 15/100\n",
            "38/38 [==============================] - 1s 18ms/step - loss: 0.0015\n",
            "Epoch 16/100\n",
            "38/38 [==============================] - 1s 17ms/step - loss: 0.0016\n",
            "Epoch 17/100\n",
            "38/38 [==============================] - 1s 18ms/step - loss: 0.0016\n",
            "Epoch 18/100\n",
            "38/38 [==============================] - 1s 17ms/step - loss: 0.0012\n",
            "Epoch 19/100\n",
            "38/38 [==============================] - 1s 17ms/step - loss: 0.0014\n",
            "Epoch 20/100\n",
            "38/38 [==============================] - 1s 17ms/step - loss: 0.0014\n",
            "Epoch 21/100\n",
            "38/38 [==============================] - 1s 17ms/step - loss: 0.0015\n",
            "Epoch 22/100\n",
            "38/38 [==============================] - 1s 17ms/step - loss: 0.0014\n",
            "Epoch 23/100\n",
            "38/38 [==============================] - 1s 17ms/step - loss: 0.0012\n",
            "Epoch 24/100\n",
            "38/38 [==============================] - 1s 18ms/step - loss: 0.0014\n",
            "Epoch 25/100\n",
            "38/38 [==============================] - 1s 20ms/step - loss: 0.0014\n",
            "Epoch 26/100\n",
            "38/38 [==============================] - 1s 20ms/step - loss: 0.0013\n",
            "Epoch 27/100\n",
            "38/38 [==============================] - 1s 20ms/step - loss: 0.0018\n",
            "Epoch 28/100\n",
            "38/38 [==============================] - 1s 17ms/step - loss: 0.0012\n",
            "Epoch 29/100\n",
            "38/38 [==============================] - 1s 17ms/step - loss: 0.0013\n",
            "Epoch 30/100\n",
            "38/38 [==============================] - 1s 17ms/step - loss: 0.0013\n",
            "Epoch 31/100\n",
            "38/38 [==============================] - 1s 18ms/step - loss: 0.0012\n",
            "Epoch 32/100\n",
            "38/38 [==============================] - 1s 18ms/step - loss: 0.0014\n",
            "Epoch 33/100\n",
            "38/38 [==============================] - 1s 18ms/step - loss: 0.0012\n",
            "Epoch 34/100\n",
            "38/38 [==============================] - 1s 18ms/step - loss: 0.0012\n",
            "Epoch 35/100\n",
            "38/38 [==============================] - 1s 18ms/step - loss: 0.0011\n",
            "Epoch 36/100\n",
            "38/38 [==============================] - 1s 18ms/step - loss: 0.0014\n",
            "Epoch 37/100\n",
            "38/38 [==============================] - 1s 17ms/step - loss: 0.0012\n",
            "Epoch 38/100\n",
            "38/38 [==============================] - 1s 17ms/step - loss: 0.0011\n",
            "Epoch 39/100\n",
            "38/38 [==============================] - 1s 18ms/step - loss: 0.0013\n",
            "Epoch 40/100\n",
            "38/38 [==============================] - 1s 18ms/step - loss: 0.0012\n",
            "Epoch 41/100\n",
            "38/38 [==============================] - 1s 18ms/step - loss: 0.0012\n",
            "Epoch 42/100\n",
            "38/38 [==============================] - 1s 18ms/step - loss: 0.0012\n",
            "Epoch 43/100\n",
            "38/38 [==============================] - 1s 17ms/step - loss: 0.0012\n",
            "Epoch 44/100\n",
            "38/38 [==============================] - 1s 24ms/step - loss: 0.0011\n",
            "Epoch 45/100\n",
            "38/38 [==============================] - 1s 33ms/step - loss: 0.0011\n",
            "Epoch 46/100\n",
            "38/38 [==============================] - 1s 30ms/step - loss: 0.0012\n",
            "Epoch 47/100\n",
            "38/38 [==============================] - 1s 30ms/step - loss: 0.0012\n",
            "Epoch 48/100\n",
            "38/38 [==============================] - 1s 28ms/step - loss: 0.0011\n",
            "Epoch 49/100\n",
            "38/38 [==============================] - 1s 32ms/step - loss: 0.0010\n",
            "Epoch 50/100\n",
            "38/38 [==============================] - 2s 42ms/step - loss: 0.0013\n",
            "Epoch 51/100\n",
            "38/38 [==============================] - 1s 37ms/step - loss: 0.0011\n",
            "Epoch 52/100\n",
            "38/38 [==============================] - 1s 18ms/step - loss: 9.9626e-04\n",
            "Epoch 53/100\n",
            "38/38 [==============================] - 1s 17ms/step - loss: 9.6884e-04\n",
            "Epoch 54/100\n",
            "38/38 [==============================] - 1s 18ms/step - loss: 0.0012\n",
            "Epoch 55/100\n",
            "38/38 [==============================] - 1s 18ms/step - loss: 9.9912e-04\n",
            "Epoch 56/100\n",
            "38/38 [==============================] - 1s 17ms/step - loss: 9.8589e-04\n",
            "Epoch 57/100\n",
            "38/38 [==============================] - 1s 17ms/step - loss: 9.1597e-04\n",
            "Epoch 58/100\n",
            "38/38 [==============================] - 1s 17ms/step - loss: 0.0010\n",
            "Epoch 59/100\n",
            "38/38 [==============================] - 1s 18ms/step - loss: 9.9003e-04\n",
            "Epoch 60/100\n",
            "38/38 [==============================] - 1s 18ms/step - loss: 8.8279e-04\n",
            "Epoch 61/100\n",
            "38/38 [==============================] - 1s 17ms/step - loss: 9.8535e-04\n",
            "Epoch 62/100\n",
            "38/38 [==============================] - 1s 18ms/step - loss: 9.5084e-04\n",
            "Epoch 63/100\n",
            "38/38 [==============================] - 1s 17ms/step - loss: 0.0010\n",
            "Epoch 64/100\n",
            "38/38 [==============================] - 1s 17ms/step - loss: 0.0012\n",
            "Epoch 65/100\n",
            "38/38 [==============================] - 1s 17ms/step - loss: 0.0011\n",
            "Epoch 66/100\n",
            "38/38 [==============================] - 1s 17ms/step - loss: 9.7056e-04\n",
            "Epoch 67/100\n",
            "38/38 [==============================] - 1s 17ms/step - loss: 9.7154e-04\n",
            "Epoch 68/100\n",
            "38/38 [==============================] - 1s 18ms/step - loss: 9.3847e-04\n",
            "Epoch 69/100\n",
            "38/38 [==============================] - 1s 17ms/step - loss: 0.0010\n",
            "Epoch 70/100\n",
            "38/38 [==============================] - 1s 17ms/step - loss: 9.1559e-04\n",
            "Epoch 71/100\n",
            "38/38 [==============================] - 1s 17ms/step - loss: 8.7011e-04\n",
            "Epoch 72/100\n",
            "38/38 [==============================] - 1s 17ms/step - loss: 9.5275e-04\n",
            "Epoch 73/100\n",
            "38/38 [==============================] - 1s 17ms/step - loss: 9.8148e-04\n",
            "Epoch 74/100\n",
            "38/38 [==============================] - 1s 19ms/step - loss: 9.0762e-04\n",
            "Epoch 75/100\n",
            "38/38 [==============================] - 1s 17ms/step - loss: 0.0010\n",
            "Epoch 76/100\n",
            "38/38 [==============================] - 1s 17ms/step - loss: 9.0934e-04\n",
            "Epoch 77/100\n",
            "38/38 [==============================] - 1s 18ms/step - loss: 8.5669e-04\n",
            "Epoch 78/100\n",
            "38/38 [==============================] - 1s 17ms/step - loss: 9.1239e-04\n",
            "Epoch 79/100\n",
            "38/38 [==============================] - 1s 17ms/step - loss: 9.4640e-04\n",
            "Epoch 80/100\n",
            "38/38 [==============================] - 1s 17ms/step - loss: 8.6267e-04\n",
            "Epoch 81/100\n",
            "38/38 [==============================] - 1s 18ms/step - loss: 8.3969e-04\n",
            "Epoch 82/100\n",
            "38/38 [==============================] - 1s 17ms/step - loss: 8.9675e-04\n",
            "Epoch 83/100\n",
            "38/38 [==============================] - 1s 17ms/step - loss: 8.4168e-04\n",
            "Epoch 84/100\n",
            "38/38 [==============================] - 1s 16ms/step - loss: 0.0010\n",
            "Epoch 85/100\n",
            "38/38 [==============================] - 1s 16ms/step - loss: 8.3419e-04\n",
            "Epoch 86/100\n",
            "38/38 [==============================] - 1s 18ms/step - loss: 8.7919e-04\n",
            "Epoch 87/100\n",
            "38/38 [==============================] - 1s 17ms/step - loss: 8.1320e-04\n",
            "Epoch 88/100\n",
            "38/38 [==============================] - 1s 17ms/step - loss: 8.3288e-04\n",
            "Epoch 89/100\n",
            "38/38 [==============================] - 1s 17ms/step - loss: 8.2671e-04\n",
            "Epoch 90/100\n",
            "38/38 [==============================] - 1s 18ms/step - loss: 9.8356e-04\n",
            "Epoch 91/100\n",
            "38/38 [==============================] - 1s 17ms/step - loss: 8.4441e-04\n",
            "Epoch 92/100\n",
            "38/38 [==============================] - 1s 17ms/step - loss: 8.8821e-04\n",
            "Epoch 93/100\n",
            "38/38 [==============================] - 1s 16ms/step - loss: 9.3860e-04\n",
            "Epoch 94/100\n",
            "38/38 [==============================] - 1s 17ms/step - loss: 7.4024e-04\n",
            "Epoch 95/100\n",
            "38/38 [==============================] - 1s 17ms/step - loss: 8.9988e-04\n",
            "Epoch 96/100\n",
            "38/38 [==============================] - 1s 17ms/step - loss: 8.8483e-04\n",
            "Epoch 97/100\n",
            "38/38 [==============================] - 1s 16ms/step - loss: 9.0145e-04\n",
            "Epoch 98/100\n",
            "38/38 [==============================] - 1s 17ms/step - loss: 8.6005e-04\n",
            "Epoch 99/100\n",
            "38/38 [==============================] - 1s 17ms/step - loss: 7.9470e-04\n",
            "Epoch 100/100\n",
            "38/38 [==============================] - 1s 17ms/step - loss: 8.6816e-04\n"
          ]
        },
        {
          "output_type": "execute_result",
          "data": {
            "text/plain": [
              "<keras.callbacks.History at 0x7fae125189d0>"
            ]
          },
          "metadata": {},
          "execution_count": 17
        }
      ]
    },
    {
      "cell_type": "code",
      "source": [
        "dataset_test = pd.read_csv(\"/content/drive/MyDrive/Colab Notebooks/deeplearining projects/rnn/testset.csv\")"
      ],
      "metadata": {
        "id": "WTPNUKPFnGXN"
      },
      "execution_count": 18,
      "outputs": []
    },
    {
      "cell_type": "code",
      "source": [
        "price = dataset_test.iloc[:,1:2].values"
      ],
      "metadata": {
        "id": "2fbkYfpKoKmE"
      },
      "execution_count": 19,
      "outputs": []
    },
    {
      "cell_type": "code",
      "source": [
        "dataset_total = pd.concat((dataset_trainv[\"Open\"],dataset_test[\"Open\"]),axis=0)"
      ],
      "metadata": {
        "id": "iDt5nCXloVic"
      },
      "execution_count": 20,
      "outputs": []
    },
    {
      "cell_type": "code",
      "source": [
        "ien = dataset_total[len(dataset_total)-len(dataset_test)-60:].values"
      ],
      "metadata": {
        "id": "-Sgk78vho2sC"
      },
      "execution_count": 21,
      "outputs": []
    },
    {
      "cell_type": "code",
      "source": [
        "len(dataset_total)-len(dataset_test)-60"
      ],
      "metadata": {
        "colab": {
          "base_uri": "https://localhost:8080/"
        },
        "id": "e56_nptApWFz",
        "outputId": "de688bf8-6ad3-435c-e6e7-f5456eb7ed14"
      },
      "execution_count": 22,
      "outputs": [
        {
          "output_type": "execute_result",
          "data": {
            "text/plain": [
              "1199"
            ]
          },
          "metadata": {},
          "execution_count": 22
        }
      ]
    },
    {
      "cell_type": "code",
      "source": [
        "ien = ien.reshape(-1,1)"
      ],
      "metadata": {
        "id": "VTdRDUC6pbv1"
      },
      "execution_count": 23,
      "outputs": []
    },
    {
      "cell_type": "code",
      "source": [
        "ien = sc.transform(ien)"
      ],
      "metadata": {
        "id": "FWa17eH5ptBw"
      },
      "execution_count": 24,
      "outputs": []
    },
    {
      "cell_type": "code",
      "source": [
        "ien.shape"
      ],
      "metadata": {
        "id": "GuY693fGpzvr",
        "colab": {
          "base_uri": "https://localhost:8080/"
        },
        "outputId": "58e6e220-2107-443e-9bd6-853694e914ff"
      },
      "execution_count": 25,
      "outputs": [
        {
          "output_type": "execute_result",
          "data": {
            "text/plain": [
              "(185, 1)"
            ]
          },
          "metadata": {},
          "execution_count": 25
        }
      ]
    },
    {
      "cell_type": "code",
      "source": [
        "x_test = []\n",
        "\n",
        "for i in range(60,185):\n",
        "  x_test.append(ien[i-60:i,0])"
      ],
      "metadata": {
        "id": "hEfq9FkDVpPq"
      },
      "execution_count": 26,
      "outputs": []
    },
    {
      "cell_type": "code",
      "source": [
        "x_test = np.array(x_test)"
      ],
      "metadata": {
        "id": "-Wl6r4P7WDC_"
      },
      "execution_count": 27,
      "outputs": []
    },
    {
      "cell_type": "code",
      "source": [
        "x_test.shape"
      ],
      "metadata": {
        "colab": {
          "base_uri": "https://localhost:8080/"
        },
        "id": "fD9esQNdWGEx",
        "outputId": "5683f423-125a-43e2-89f9-80bce16eb658"
      },
      "execution_count": 28,
      "outputs": [
        {
          "output_type": "execute_result",
          "data": {
            "text/plain": [
              "(125, 60)"
            ]
          },
          "metadata": {},
          "execution_count": 28
        }
      ]
    },
    {
      "cell_type": "code",
      "source": [
        "pred_on_test_set = model.predict(x_test)"
      ],
      "metadata": {
        "colab": {
          "base_uri": "https://localhost:8080/"
        },
        "id": "umR9O9biWIzC",
        "outputId": "2964ed40-1c79-433c-f40d-4d2dd97fc64d"
      },
      "execution_count": 29,
      "outputs": [
        {
          "output_type": "stream",
          "name": "stdout",
          "text": [
            "4/4 [==============================] - 2s 10ms/step\n"
          ]
        }
      ]
    },
    {
      "cell_type": "code",
      "source": [
        "pred_on_test_set = sc.inverse_transform(pred_on_test_set)"
      ],
      "metadata": {
        "id": "mZDhFVAxWTa4"
      },
      "execution_count": 30,
      "outputs": []
    },
    {
      "cell_type": "code",
      "source": [
        "pred_on_test_set"
      ],
      "metadata": {
        "colab": {
          "base_uri": "https://localhost:8080/"
        },
        "id": "we3VfUhVWfqh",
        "outputId": "1a0b440d-824a-4a9c-d69f-e44e5a5f1b9f"
      },
      "execution_count": 31,
      "outputs": [
        {
          "output_type": "execute_result",
          "data": {
            "text/plain": [
              "array([[1042.6663],\n",
              "       [1041.7406],\n",
              "       [1045.4619],\n",
              "       [1054.7786],\n",
              "       [1063.4918],\n",
              "       [1070.0198],\n",
              "       [1074.9677],\n",
              "       [1075.2986],\n",
              "       [1075.7936],\n",
              "       [1076.2296],\n",
              "       [1082.705 ],\n",
              "       [1088.3862],\n",
              "       [1092.3496],\n",
              "       [1094.8196],\n",
              "       [1097.3037],\n",
              "       [1103.302 ],\n",
              "       [1111.8047],\n",
              "       [1117.5659],\n",
              "       [1120.6428],\n",
              "       [1122.4764],\n",
              "       [1122.4692],\n",
              "       [1122.4432],\n",
              "       [1121.8749],\n",
              "       [1115.139 ],\n",
              "       [1102.3418],\n",
              "       [1080.3182],\n",
              "       [1072.7241],\n",
              "       [1070.573 ],\n",
              "       [1060.8866],\n",
              "       [1056.8656],\n",
              "       [1056.6886],\n",
              "       [1057.2104],\n",
              "       [1063.1335],\n",
              "       [1070.2345],\n",
              "       [1074.5032],\n",
              "       [1078.8005],\n",
              "       [1083.5648],\n",
              "       [1085.9641],\n",
              "       [1089.3958],\n",
              "       [1095.0076],\n",
              "       [1096.3219],\n",
              "       [1092.4791],\n",
              "       [1077.9724],\n",
              "       [1068.7618],\n",
              "       [1072.0972],\n",
              "       [1076.2473],\n",
              "       [1083.0497],\n",
              "       [1092.4224],\n",
              "       [1103.9253],\n",
              "       [1112.9227],\n",
              "       [1113.6123],\n",
              "       [1111.3413],\n",
              "       [1110.7075],\n",
              "       [1105.8031],\n",
              "       [1096.6936],\n",
              "       [1088.7108],\n",
              "       [1082.7781],\n",
              "       [1072.7428],\n",
              "       [1063.6832],\n",
              "       [1062.3915],\n",
              "       [1050.2975],\n",
              "       [1038.9012],\n",
              "       [1035.8818],\n",
              "       [1034.156 ],\n",
              "       [1026.9685],\n",
              "       [1031.1115],\n",
              "       [1032.9205],\n",
              "       [1030.3384],\n",
              "       [1029.1774],\n",
              "       [1029.3984],\n",
              "       [1028.705 ],\n",
              "       [1031.3707],\n",
              "       [1033.3058],\n",
              "       [1037.1498],\n",
              "       [1046.3861],\n",
              "       [1052.0051],\n",
              "       [1056.45  ],\n",
              "       [1058.3911],\n",
              "       [1053.0411],\n",
              "       [1040.9128],\n",
              "       [1032.5123],\n",
              "       [1033.7993],\n",
              "       [1034.07  ],\n",
              "       [1028.9602],\n",
              "       [1027.3575],\n",
              "       [1025.9331],\n",
              "       [1023.7819],\n",
              "       [1029.9114],\n",
              "       [1038.769 ],\n",
              "       [1044.1112],\n",
              "       [1052.2235],\n",
              "       [1060.2821],\n",
              "       [1066.3695],\n",
              "       [1067.4983],\n",
              "       [1063.9386],\n",
              "       [1061.2067],\n",
              "       [1056.7719],\n",
              "       [1056.1338],\n",
              "       [1059.9272],\n",
              "       [1059.8342],\n",
              "       [1060.901 ],\n",
              "       [1062.6653],\n",
              "       [1060.7856],\n",
              "       [1057.5802],\n",
              "       [1056.4957],\n",
              "       [1063.6667],\n",
              "       [1075.7406],\n",
              "       [1088.0577],\n",
              "       [1096.0082],\n",
              "       [1097.5841],\n",
              "       [1094.0967],\n",
              "       [1090.7015],\n",
              "       [1091.86  ],\n",
              "       [1096.6263],\n",
              "       [1101.53  ],\n",
              "       [1105.6449],\n",
              "       [1107.447 ],\n",
              "       [1110.377 ],\n",
              "       [1116.0123],\n",
              "       [1120.835 ],\n",
              "       [1121.1912],\n",
              "       [1117.2439],\n",
              "       [1110.8976],\n",
              "       [1105.1868],\n",
              "       [1098.8483]], dtype=float32)"
            ]
          },
          "metadata": {},
          "execution_count": 31
        }
      ]
    },
    {
      "cell_type": "code",
      "source": [
        "import matplotlib.pyplot as plt"
      ],
      "metadata": {
        "id": "oeeMwRFFWnA0"
      },
      "execution_count": 32,
      "outputs": []
    },
    {
      "cell_type": "code",
      "source": [
        "plt.plot(price,color=\"green\",label=\"real price\")\n",
        "plt.plot(pred_on_test_set,color=\"blue\",label=\"predictes price\")\n",
        "plt.xlabel(\"time\")\n",
        "plt.ylabel(\"goggle stock price\")\n",
        "plt.legend()"
      ],
      "metadata": {
        "colab": {
          "base_uri": "https://localhost:8080/",
          "height": 297
        },
        "id": "e063IsJqW58Q",
        "outputId": "67765e0f-27fe-4e93-c319-18a2dc7504ba"
      },
      "execution_count": 34,
      "outputs": [
        {
          "output_type": "execute_result",
          "data": {
            "text/plain": [
              "<matplotlib.legend.Legend at 0x7fade7068c90>"
            ]
          },
          "metadata": {},
          "execution_count": 34
        },
        {
          "output_type": "display_data",
          "data": {
            "text/plain": [
              "<Figure size 432x288 with 1 Axes>"
            ],
            "image/png": "[encoded data removed]"
          },
          "metadata": {
            "needs_background": "light"
          }
        }
      ]
    },
    {
      "cell_type": "code",
      "source": [],
      "metadata": {
        "id": "pa6yZaIGXdXM"
      },
      "execution_count": null,
      "outputs": []
    }
  ]
}